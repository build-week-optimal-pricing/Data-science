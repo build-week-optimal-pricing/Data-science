{
 "cells": [
  {
   "cell_type": "code",
   "execution_count": 1,
   "metadata": {},
   "outputs": [],
   "source": [
    "import json\n",
    "from shapely.geometry import shape, GeometryCollection, Point\n",
    "import pandas as pd\n",
    "\n"
   ]
  },
  {
   "cell_type": "markdown",
   "metadata": {},
   "source": [
    "### GeoJson\n",
    "Let's figure out if we can determine the neighborhood of a set of coordinates."
   ]
  },
  {
   "cell_type": "code",
   "execution_count": 2,
   "metadata": {},
   "outputs": [
    {
     "data": {
      "text/plain": [
       "dict_keys(['type', 'features'])"
      ]
     },
     "execution_count": 2,
     "metadata": {},
     "output_type": "execute_result"
    }
   ],
   "source": [
    "with open(\"../data/neighbourhoods.geojson\", \"r\") as f:\n",
    "    js = json.load(f)\n",
    "\n",
    "js.keys()"
   ]
  },
  {
   "cell_type": "code",
   "execution_count": 3,
   "metadata": {},
   "outputs": [
    {
     "data": {
      "text/html": [
       "<div>\n",
       "<style scoped>\n",
       "    .dataframe tbody tr th:only-of-type {\n",
       "        vertical-align: middle;\n",
       "    }\n",
       "\n",
       "    .dataframe tbody tr th {\n",
       "        vertical-align: top;\n",
       "    }\n",
       "\n",
       "    .dataframe thead th {\n",
       "        text-align: right;\n",
       "    }\n",
       "</style>\n",
       "<table border=\"1\" class=\"dataframe\">\n",
       "  <thead>\n",
       "    <tr style=\"text-align: right;\">\n",
       "      <th></th>\n",
       "      <th>id</th>\n",
       "      <th>name</th>\n",
       "      <th>host_id</th>\n",
       "      <th>host_name</th>\n",
       "      <th>neighbourhood_group</th>\n",
       "      <th>neighbourhood</th>\n",
       "      <th>latitude</th>\n",
       "      <th>longitude</th>\n",
       "      <th>room_type</th>\n",
       "      <th>price</th>\n",
       "      <th>minimum_nights</th>\n",
       "      <th>number_of_reviews</th>\n",
       "      <th>last_review</th>\n",
       "      <th>reviews_per_month</th>\n",
       "      <th>calculated_host_listings_count</th>\n",
       "      <th>availability_365</th>\n",
       "    </tr>\n",
       "  </thead>\n",
       "  <tbody>\n",
       "    <tr>\n",
       "      <td>0</td>\n",
       "      <td>1944</td>\n",
       "      <td>cafeheaven Pberg/Mitte</td>\n",
       "      <td>2164</td>\n",
       "      <td>Lulah</td>\n",
       "      <td>Mitte</td>\n",
       "      <td>Brunnenstr. Nord</td>\n",
       "      <td>52.54425</td>\n",
       "      <td>13.39749</td>\n",
       "      <td>Private room</td>\n",
       "      <td>21</td>\n",
       "      <td>60</td>\n",
       "      <td>18</td>\n",
       "      <td>2018-11-11</td>\n",
       "      <td>0.24</td>\n",
       "      <td>1</td>\n",
       "      <td>251</td>\n",
       "    </tr>\n",
       "    <tr>\n",
       "      <td>1</td>\n",
       "      <td>3176</td>\n",
       "      <td>Fabulous Flat in great Location</td>\n",
       "      <td>3718</td>\n",
       "      <td>Britta</td>\n",
       "      <td>Pankow</td>\n",
       "      <td>Prenzlauer Berg Südwest</td>\n",
       "      <td>52.53500</td>\n",
       "      <td>13.41758</td>\n",
       "      <td>Entire home/apt</td>\n",
       "      <td>90</td>\n",
       "      <td>62</td>\n",
       "      <td>145</td>\n",
       "      <td>2019-06-27</td>\n",
       "      <td>1.14</td>\n",
       "      <td>1</td>\n",
       "      <td>344</td>\n",
       "    </tr>\n",
       "    <tr>\n",
       "      <td>2</td>\n",
       "      <td>3309</td>\n",
       "      <td>BerlinSpot Schöneberg near KaDeWe</td>\n",
       "      <td>4108</td>\n",
       "      <td>Jana</td>\n",
       "      <td>Tempelhof - Schöneberg</td>\n",
       "      <td>Schöneberg-Nord</td>\n",
       "      <td>52.49885</td>\n",
       "      <td>13.34906</td>\n",
       "      <td>Private room</td>\n",
       "      <td>28</td>\n",
       "      <td>7</td>\n",
       "      <td>27</td>\n",
       "      <td>2019-05-31</td>\n",
       "      <td>0.35</td>\n",
       "      <td>1</td>\n",
       "      <td>317</td>\n",
       "    </tr>\n",
       "    <tr>\n",
       "      <td>3</td>\n",
       "      <td>6883</td>\n",
       "      <td>Stylish East Side Loft in Center with AC &amp; 2 b...</td>\n",
       "      <td>16149</td>\n",
       "      <td>Steffen</td>\n",
       "      <td>Friedrichshain-Kreuzberg</td>\n",
       "      <td>Frankfurter Allee Süd FK</td>\n",
       "      <td>52.51171</td>\n",
       "      <td>13.45477</td>\n",
       "      <td>Entire home/apt</td>\n",
       "      <td>125</td>\n",
       "      <td>3</td>\n",
       "      <td>128</td>\n",
       "      <td>2019-10-21</td>\n",
       "      <td>1.08</td>\n",
       "      <td>1</td>\n",
       "      <td>20</td>\n",
       "    </tr>\n",
       "    <tr>\n",
       "      <td>4</td>\n",
       "      <td>7071</td>\n",
       "      <td>BrightRoom with sunny greenview!</td>\n",
       "      <td>17391</td>\n",
       "      <td>BrightRoom</td>\n",
       "      <td>Pankow</td>\n",
       "      <td>Helmholtzplatz</td>\n",
       "      <td>52.54316</td>\n",
       "      <td>13.41509</td>\n",
       "      <td>Private room</td>\n",
       "      <td>33</td>\n",
       "      <td>3</td>\n",
       "      <td>266</td>\n",
       "      <td>2019-11-09</td>\n",
       "      <td>2.13</td>\n",
       "      <td>2</td>\n",
       "      <td>30</td>\n",
       "    </tr>\n",
       "  </tbody>\n",
       "</table>\n",
       "</div>"
      ],
      "text/plain": [
       "     id                                               name  host_id  \\\n",
       "0  1944                             cafeheaven Pberg/Mitte     2164   \n",
       "1  3176                    Fabulous Flat in great Location     3718   \n",
       "2  3309                  BerlinSpot Schöneberg near KaDeWe     4108   \n",
       "3  6883  Stylish East Side Loft in Center with AC & 2 b...    16149   \n",
       "4  7071                   BrightRoom with sunny greenview!    17391   \n",
       "\n",
       "    host_name       neighbourhood_group             neighbourhood  latitude  \\\n",
       "0       Lulah                     Mitte          Brunnenstr. Nord  52.54425   \n",
       "1      Britta                    Pankow   Prenzlauer Berg Südwest  52.53500   \n",
       "2        Jana    Tempelhof - Schöneberg           Schöneberg-Nord  52.49885   \n",
       "3     Steffen  Friedrichshain-Kreuzberg  Frankfurter Allee Süd FK  52.51171   \n",
       "4  BrightRoom                    Pankow            Helmholtzplatz  52.54316   \n",
       "\n",
       "   longitude        room_type  price  minimum_nights  number_of_reviews  \\\n",
       "0   13.39749     Private room     21              60                 18   \n",
       "1   13.41758  Entire home/apt     90              62                145   \n",
       "2   13.34906     Private room     28               7                 27   \n",
       "3   13.45477  Entire home/apt    125               3                128   \n",
       "4   13.41509     Private room     33               3                266   \n",
       "\n",
       "  last_review  reviews_per_month  calculated_host_listings_count  \\\n",
       "0  2018-11-11               0.24                               1   \n",
       "1  2019-06-27               1.14                               1   \n",
       "2  2019-05-31               0.35                               1   \n",
       "3  2019-10-21               1.08                               1   \n",
       "4  2019-11-09               2.13                               2   \n",
       "\n",
       "   availability_365  \n",
       "0               251  \n",
       "1               344  \n",
       "2               317  \n",
       "3                20  \n",
       "4                30  "
      ]
     },
     "execution_count": 3,
     "metadata": {},
     "output_type": "execute_result"
    }
   ],
   "source": [
    "listing_df = pd.read_csv(\"../data/listings.csv\")\n",
    "listing_df.head()"
   ]
  },
  {
   "cell_type": "code",
   "execution_count": 4,
   "metadata": {},
   "outputs": [
    {
     "name": "stdout",
     "output_type": "stream",
     "text": [
      "id\n",
      "name\n",
      "host_id\n",
      "host_name\n",
      "neighbourhood_group\n",
      "neighbourhood\n",
      "latitude\n",
      "longitude\n",
      "room_type\n",
      "price\n",
      "minimum_nights\n",
      "number_of_reviews\n",
      "last_review\n",
      "reviews_per_month\n",
      "calculated_host_listings_count\n",
      "availability_365\n"
     ]
    }
   ],
   "source": [
    "for col in listing_df.columns:\n",
    "    print(col)"
   ]
  },
  {
   "cell_type": "code",
   "execution_count": 5,
   "metadata": {},
   "outputs": [],
   "source": [
    "num_rows = 5\n",
    "sample = listing_df.head(num_rows)"
   ]
  },
  {
   "cell_type": "code",
   "execution_count": 6,
   "metadata": {},
   "outputs": [
    {
     "name": "stdout",
     "output_type": "stream",
     "text": [
      "found neighbourhood!\n",
      "Brunnenstr. Nord\n",
      "{'neighbourhood': 'Brunnenstr. Nord', 'neighbourhood_group': 'Mitte'}\n",
      "found neighbourhood!\n",
      "Prenzlauer Berg Südwest\n",
      "{'neighbourhood': 'Prenzlauer Berg Südwest', 'neighbourhood_group': 'Pankow'}\n",
      "found neighbourhood!\n",
      "Schöneberg-Nord\n",
      "{'neighbourhood': 'Schöneberg-Nord', 'neighbourhood_group': 'Tempelhof - Schöneberg'}\n",
      "found neighbourhood!\n",
      "Frankfurter Allee Süd FK\n",
      "{'neighbourhood': 'Frankfurter Allee Süd FK', 'neighbourhood_group': 'Friedrichshain-Kreuzberg'}\n",
      "found neighbourhood!\n",
      "Helmholtzplatz\n",
      "{'neighbourhood': 'Helmholtzplatz', 'neighbourhood_group': 'Pankow'}\n"
     ]
    }
   ],
   "source": [
    "\n",
    "\n",
    "for ix in range(5):\n",
    "    lat, long, n = sample[[\"latitude\", \"longitude\", \"neighbourhood\"]].iloc[ix]\n",
    "    p = Point(long, lat)\n",
    "    for neighbourhood in js[\"features\"]:\n",
    "        polygon = shape(neighbourhood[\"geometry\"])\n",
    "        if polygon.contains(p):\n",
    "            print(\"found neighbourhood!\")\n",
    "            print(n)\n",
    "            print(neighbourhood[\"properties\"])\n"
   ]
  },
  {
   "cell_type": "markdown",
   "metadata": {},
   "source": [
    "Success!\n",
    "\n",
    "### Explore the listings data"
   ]
  },
  {
   "cell_type": "code",
   "execution_count": 7,
   "metadata": {},
   "outputs": [
    {
     "data": {
      "text/plain": [
       "(482969, 16)"
      ]
     },
     "execution_count": 7,
     "metadata": {},
     "output_type": "execute_result"
    }
   ],
   "source": [
    "import os\n",
    "\n",
    "dfs = [\n",
    "    pd.read_csv(\"../data/\" + f) for f in os.listdir(\"../data\")\n",
    "    if f.startswith(\"listings\") and f.endswith(\".csv\")\n",
    "]\n",
    "\n",
    "listings_df = pd.concat(dfs)\n",
    "listings_df.shape"
   ]
  },
  {
   "cell_type": "code",
   "execution_count": 8,
   "metadata": {},
   "outputs": [
    {
     "data": {
      "text/plain": [
       "id                                    0\n",
       "name                               1149\n",
       "host_id                               0\n",
       "host_name                           641\n",
       "neighbourhood_group                   0\n",
       "neighbourhood                         0\n",
       "latitude                              0\n",
       "longitude                             0\n",
       "room_type                             0\n",
       "price                                 0\n",
       "minimum_nights                        0\n",
       "number_of_reviews                     0\n",
       "last_review                       86906\n",
       "reviews_per_month                 86975\n",
       "calculated_host_listings_count        0\n",
       "availability_365                      0\n",
       "dtype: int64"
      ]
     },
     "execution_count": 8,
     "metadata": {},
     "output_type": "execute_result"
    }
   ],
   "source": [
    "listings_df.isnull().sum()"
   ]
  },
  {
   "cell_type": "code",
   "execution_count": 9,
   "metadata": {},
   "outputs": [
    {
     "data": {
      "text/html": [
       "<div>\n",
       "<style scoped>\n",
       "    .dataframe tbody tr th:only-of-type {\n",
       "        vertical-align: middle;\n",
       "    }\n",
       "\n",
       "    .dataframe tbody tr th {\n",
       "        vertical-align: top;\n",
       "    }\n",
       "\n",
       "    .dataframe thead th {\n",
       "        text-align: right;\n",
       "    }\n",
       "</style>\n",
       "<table border=\"1\" class=\"dataframe\">\n",
       "  <thead>\n",
       "    <tr style=\"text-align: right;\">\n",
       "      <th></th>\n",
       "      <th>id</th>\n",
       "      <th>host_id</th>\n",
       "      <th>latitude</th>\n",
       "      <th>longitude</th>\n",
       "      <th>price</th>\n",
       "      <th>minimum_nights</th>\n",
       "      <th>number_of_reviews</th>\n",
       "      <th>reviews_per_month</th>\n",
       "      <th>calculated_host_listings_count</th>\n",
       "      <th>availability_365</th>\n",
       "    </tr>\n",
       "  </thead>\n",
       "  <tbody>\n",
       "    <tr>\n",
       "      <td>count</td>\n",
       "      <td>4.829690e+05</td>\n",
       "      <td>4.829690e+05</td>\n",
       "      <td>482969.000000</td>\n",
       "      <td>482969.000000</td>\n",
       "      <td>482969.000000</td>\n",
       "      <td>482969.000000</td>\n",
       "      <td>482969.000000</td>\n",
       "      <td>395994.000000</td>\n",
       "      <td>482969.000000</td>\n",
       "      <td>482969.000000</td>\n",
       "    </tr>\n",
       "    <tr>\n",
       "      <td>mean</td>\n",
       "      <td>1.680608e+07</td>\n",
       "      <td>5.797257e+07</td>\n",
       "      <td>52.509931</td>\n",
       "      <td>13.406321</td>\n",
       "      <td>67.231367</td>\n",
       "      <td>6.518605</td>\n",
       "      <td>18.054121</td>\n",
       "      <td>1.081348</td>\n",
       "      <td>1.991583</td>\n",
       "      <td>74.631525</td>\n",
       "    </tr>\n",
       "    <tr>\n",
       "      <td>std</td>\n",
       "      <td>9.547035e+06</td>\n",
       "      <td>6.427616e+07</td>\n",
       "      <td>0.031018</td>\n",
       "      <td>0.058233</td>\n",
       "      <td>200.052182</td>\n",
       "      <td>32.020520</td>\n",
       "      <td>38.268796</td>\n",
       "      <td>1.480830</td>\n",
       "      <td>3.979410</td>\n",
       "      <td>114.264903</td>\n",
       "    </tr>\n",
       "    <tr>\n",
       "      <td>min</td>\n",
       "      <td>1.944000e+03</td>\n",
       "      <td>1.581000e+03</td>\n",
       "      <td>52.345800</td>\n",
       "      <td>13.084345</td>\n",
       "      <td>0.000000</td>\n",
       "      <td>1.000000</td>\n",
       "      <td>0.000000</td>\n",
       "      <td>0.010000</td>\n",
       "      <td>1.000000</td>\n",
       "      <td>0.000000</td>\n",
       "    </tr>\n",
       "    <tr>\n",
       "      <td>25%</td>\n",
       "      <td>8.442867e+06</td>\n",
       "      <td>9.601373e+06</td>\n",
       "      <td>52.489110</td>\n",
       "      <td>13.375949</td>\n",
       "      <td>30.000000</td>\n",
       "      <td>2.000000</td>\n",
       "      <td>1.000000</td>\n",
       "      <td>0.170000</td>\n",
       "      <td>1.000000</td>\n",
       "      <td>0.000000</td>\n",
       "    </tr>\n",
       "    <tr>\n",
       "      <td>50%</td>\n",
       "      <td>1.766162e+07</td>\n",
       "      <td>3.266139e+07</td>\n",
       "      <td>52.509223</td>\n",
       "      <td>13.416890</td>\n",
       "      <td>48.000000</td>\n",
       "      <td>2.000000</td>\n",
       "      <td>4.000000</td>\n",
       "      <td>0.510000</td>\n",
       "      <td>1.000000</td>\n",
       "      <td>3.000000</td>\n",
       "    </tr>\n",
       "    <tr>\n",
       "      <td>75%</td>\n",
       "      <td>2.343989e+07</td>\n",
       "      <td>8.675924e+07</td>\n",
       "      <td>52.532790</td>\n",
       "      <td>13.439490</td>\n",
       "      <td>70.000000</td>\n",
       "      <td>4.000000</td>\n",
       "      <td>16.000000</td>\n",
       "      <td>1.400000</td>\n",
       "      <td>1.000000</td>\n",
       "      <td>114.000000</td>\n",
       "    </tr>\n",
       "    <tr>\n",
       "      <td>max</td>\n",
       "      <td>4.008630e+07</td>\n",
       "      <td>3.089376e+08</td>\n",
       "      <td>52.663890</td>\n",
       "      <td>13.760739</td>\n",
       "      <td>9000.000000</td>\n",
       "      <td>5000.000000</td>\n",
       "      <td>596.000000</td>\n",
       "      <td>94.000000</td>\n",
       "      <td>55.000000</td>\n",
       "      <td>365.000000</td>\n",
       "    </tr>\n",
       "  </tbody>\n",
       "</table>\n",
       "</div>"
      ],
      "text/plain": [
       "                 id       host_id       latitude      longitude  \\\n",
       "count  4.829690e+05  4.829690e+05  482969.000000  482969.000000   \n",
       "mean   1.680608e+07  5.797257e+07      52.509931      13.406321   \n",
       "std    9.547035e+06  6.427616e+07       0.031018       0.058233   \n",
       "min    1.944000e+03  1.581000e+03      52.345800      13.084345   \n",
       "25%    8.442867e+06  9.601373e+06      52.489110      13.375949   \n",
       "50%    1.766162e+07  3.266139e+07      52.509223      13.416890   \n",
       "75%    2.343989e+07  8.675924e+07      52.532790      13.439490   \n",
       "max    4.008630e+07  3.089376e+08      52.663890      13.760739   \n",
       "\n",
       "               price  minimum_nights  number_of_reviews  reviews_per_month  \\\n",
       "count  482969.000000   482969.000000      482969.000000      395994.000000   \n",
       "mean       67.231367        6.518605          18.054121           1.081348   \n",
       "std       200.052182       32.020520          38.268796           1.480830   \n",
       "min         0.000000        1.000000           0.000000           0.010000   \n",
       "25%        30.000000        2.000000           1.000000           0.170000   \n",
       "50%        48.000000        2.000000           4.000000           0.510000   \n",
       "75%        70.000000        4.000000          16.000000           1.400000   \n",
       "max      9000.000000     5000.000000         596.000000          94.000000   \n",
       "\n",
       "       calculated_host_listings_count  availability_365  \n",
       "count                   482969.000000     482969.000000  \n",
       "mean                         1.991583         74.631525  \n",
       "std                          3.979410        114.264903  \n",
       "min                          1.000000          0.000000  \n",
       "25%                          1.000000          0.000000  \n",
       "50%                          1.000000          3.000000  \n",
       "75%                          1.000000        114.000000  \n",
       "max                         55.000000        365.000000  "
      ]
     },
     "execution_count": 9,
     "metadata": {},
     "output_type": "execute_result"
    }
   ],
   "source": [
    "listings_df.describe()"
   ]
  },
  {
   "cell_type": "code",
   "execution_count": 10,
   "metadata": {},
   "outputs": [
    {
     "data": {
      "text/html": [
       "<div>\n",
       "<style scoped>\n",
       "    .dataframe tbody tr th:only-of-type {\n",
       "        vertical-align: middle;\n",
       "    }\n",
       "\n",
       "    .dataframe tbody tr th {\n",
       "        vertical-align: top;\n",
       "    }\n",
       "\n",
       "    .dataframe thead th {\n",
       "        text-align: right;\n",
       "    }\n",
       "</style>\n",
       "<table border=\"1\" class=\"dataframe\">\n",
       "  <thead>\n",
       "    <tr style=\"text-align: right;\">\n",
       "      <th></th>\n",
       "      <th>name</th>\n",
       "      <th>host_name</th>\n",
       "      <th>neighbourhood_group</th>\n",
       "      <th>neighbourhood</th>\n",
       "      <th>room_type</th>\n",
       "      <th>last_review</th>\n",
       "    </tr>\n",
       "  </thead>\n",
       "  <tbody>\n",
       "    <tr>\n",
       "      <td>count</td>\n",
       "      <td>481820</td>\n",
       "      <td>482328</td>\n",
       "      <td>482969</td>\n",
       "      <td>482969</td>\n",
       "      <td>482969</td>\n",
       "      <td>396063</td>\n",
       "    </tr>\n",
       "    <tr>\n",
       "      <td>unique</td>\n",
       "      <td>53615</td>\n",
       "      <td>10458</td>\n",
       "      <td>12</td>\n",
       "      <td>138</td>\n",
       "      <td>4</td>\n",
       "      <td>1831</td>\n",
       "    </tr>\n",
       "    <tr>\n",
       "      <td>top</td>\n",
       "      <td>Gemütliches Zimmer in Neukölln</td>\n",
       "      <td>Anna</td>\n",
       "      <td>Friedrichshain-Kreuzberg</td>\n",
       "      <td>Frankfurter Allee Süd FK</td>\n",
       "      <td>Entire home/apt</td>\n",
       "      <td>2019-01-02</td>\n",
       "    </tr>\n",
       "    <tr>\n",
       "      <td>freq</td>\n",
       "      <td>183</td>\n",
       "      <td>4254</td>\n",
       "      <td>117613</td>\n",
       "      <td>28236</td>\n",
       "      <td>238964</td>\n",
       "      <td>3000</td>\n",
       "    </tr>\n",
       "  </tbody>\n",
       "</table>\n",
       "</div>"
      ],
      "text/plain": [
       "                                  name host_name       neighbourhood_group  \\\n",
       "count                           481820    482328                    482969   \n",
       "unique                           53615     10458                        12   \n",
       "top     Gemütliches Zimmer in Neukölln      Anna  Friedrichshain-Kreuzberg   \n",
       "freq                               183      4254                    117613   \n",
       "\n",
       "                   neighbourhood        room_type last_review  \n",
       "count                     482969           482969      396063  \n",
       "unique                       138                4        1831  \n",
       "top     Frankfurter Allee Süd FK  Entire home/apt  2019-01-02  \n",
       "freq                       28236           238964        3000  "
      ]
     },
     "execution_count": 10,
     "metadata": {},
     "output_type": "execute_result"
    }
   ],
   "source": [
    "listings_df.describe(exclude=\"number\")"
   ]
  },
  {
   "cell_type": "code",
   "execution_count": 11,
   "metadata": {},
   "outputs": [],
   "source": [
    "import numpy as np\n",
    "from datetime import datetime\n",
    "\n",
    "listings_df[\"last_review_utc\"] = pd.to_datetime(listings_df[\"last_review\"])\n",
    "listings_df[\"last_review_seconds_ago\"] = (datetime.now() - listings_df[\"last_review_utc\"]).astype(np.int64)"
   ]
  },
  {
   "cell_type": "markdown",
   "metadata": {},
   "source": [
    "### Establish Baseline"
   ]
  },
  {
   "cell_type": "code",
   "execution_count": 12,
   "metadata": {},
   "outputs": [
    {
     "name": "stdout",
     "output_type": "stream",
     "text": [
      "baseline mae: 40.37990203771003\n"
     ]
    }
   ],
   "source": [
    "from sklearn.metrics import mean_absolute_error\n",
    "\n",
    "baseline = [listings_df[\"price\"].mean()] * len(listings_df)\n",
    "mae = mean_absolute_error(baseline, listings_df[\"price\"])\n",
    "print(f\"baseline mae: {mae}\")"
   ]
  },
  {
   "cell_type": "code",
   "execution_count": 13,
   "metadata": {},
   "outputs": [],
   "source": [
    "from sklearn.model_selection import train_test_split\n",
    "\n",
    "train, val_test = train_test_split(listings_df, test_size=0.3)\n",
    "val, test = train_test_split(val_test, test_size=0.5)\n",
    "\n",
    "target = \"price\"\n",
    "features = listings_df.columns.drop([target] + [\"name\", \"host_name\", \"neighbourhood_group\", \"last_review_utc\", \"last_review\", \"id\", \"host_id\", \"latitude\", \"longitude\"])\n",
    "\n",
    "X_train = train[features]\n",
    "X_val = val[features]\n",
    "X_test = test[features]\n",
    "\n",
    "y_train = train[target]\n",
    "y_val = val[target]\n",
    "y_test = test[target]"
   ]
  },
  {
   "cell_type": "code",
   "execution_count": 15,
   "metadata": {},
   "outputs": [
    {
     "data": {
      "text/plain": [
       "Pipeline(memory=None,\n",
       "         steps=[('onehotencoder',\n",
       "                 OneHotEncoder(cols=['neighbourhood', 'room_type'],\n",
       "                               drop_invariant=False, handle_missing='value',\n",
       "                               handle_unknown='value', return_df=True,\n",
       "                               use_cat_names=True, verbose=0)),\n",
       "                ('simpleimputer',\n",
       "                 SimpleImputer(add_indicator=False, copy=True, fill_value=None,\n",
       "                               missing_values=nan, strategy='mean',\n",
       "                               verbose=0)),\n",
       "                ('randomforestregressor',\n",
       "                 RandomForestRegressor(bootstrap=True, criterion='mse',\n",
       "                                       max_depth=75, max_features='auto',\n",
       "                                       max_leaf_nodes=None,\n",
       "                                       min_impurity_decrease=0.0,\n",
       "                                       min_impurity_split=None,\n",
       "                                       min_samples_leaf=1, min_samples_split=2,\n",
       "                                       min_weight_fraction_leaf=0.0,\n",
       "                                       n_estimators=150, n_jobs=-1,\n",
       "                                       oob_score=False, random_state=None,\n",
       "                                       verbose=0, warm_start=False))],\n",
       "         verbose=False)"
      ]
     },
     "execution_count": 15,
     "metadata": {},
     "output_type": "execute_result"
    }
   ],
   "source": [
    "import category_encoders as ce\n",
    "from sklearn.impute import SimpleImputer\n",
    "from sklearn.ensemble import RandomForestRegressor\n",
    "from sklearn.pipeline import make_pipeline\n",
    "\n",
    "pipe = make_pipeline(\n",
    "    ce.OneHotEncoder(use_cat_names=True),\n",
    "    SimpleImputer(),\n",
    "    RandomForestRegressor(\n",
    "        n_estimators=150,\n",
    "        n_jobs=-1,\n",
    "        max_depth=75,\n",
    "    )\n",
    ")\n",
    "\n",
    "pipe.fit(X_train, y_train)"
   ]
  },
  {
   "cell_type": "code",
   "execution_count": 16,
   "metadata": {},
   "outputs": [
    {
     "name": "stdout",
     "output_type": "stream",
     "text": [
      "r2: 0, mae: 12.164486937270233\n"
     ]
    }
   ],
   "source": [
    "from sklearn.metrics import mean_absolute_error\n",
    "\n",
    "pred = pipe.predict(X_val)\n",
    "\n",
    "r2 = 0 # r2_score(pred, y_val)\n",
    "mae = mean_absolute_error(pred, y_val)\n",
    "\n",
    "print(f\"r2: {r2}, mae: {mae}\")"
   ]
  },
  {
   "cell_type": "code",
   "execution_count": 22,
   "metadata": {},
   "outputs": [
    {
     "name": "stderr",
     "output_type": "stream",
     "text": [
      "/home/cowley/anaconda3/lib/python3.7/site-packages/xgboost/core.py:587: FutureWarning: Series.base is deprecated and will be removed in a future version\n",
      "  if getattr(data, 'base', None) is not None and \\\n",
      "/home/cowley/anaconda3/lib/python3.7/site-packages/xgboost/core.py:588: FutureWarning: Series.base is deprecated and will be removed in a future version\n",
      "  data.base is not None and isinstance(data, np.ndarray) \\\n"
     ]
    },
    {
     "name": "stdout",
     "output_type": "stream",
     "text": [
      "[13:27:06] WARNING: /home/conda/feedstock_root/build_artifacts/xgboost_1572314959925/work/src/objective/regression_obj.cu:152: reg:linear is now deprecated in favor of reg:squarederror.\n"
     ]
    },
    {
     "data": {
      "text/plain": [
       "Pipeline(memory=None,\n",
       "         steps=[('onehotencoder',\n",
       "                 OneHotEncoder(cols=['neighbourhood', 'room_type'],\n",
       "                               drop_invariant=False, handle_missing='value',\n",
       "                               handle_unknown='value', return_df=True,\n",
       "                               use_cat_names=True, verbose=0)),\n",
       "                ('simpleimputer',\n",
       "                 SimpleImputer(add_indicator=False, copy=True, fill_value=None,\n",
       "                               missing_values=nan, strategy='mean',\n",
       "                               verbose=0)),\n",
       "                ('xgbregressor',\n",
       "                 XGB...\n",
       "                              colsample_bylevel=1, colsample_bynode=1,\n",
       "                              colsample_bytree=1, gamma=0,\n",
       "                              importance_type='gain', learning_rate=0.25,\n",
       "                              max_delta_step=0, max_depth=30,\n",
       "                              min_child_weight=1, missing=None,\n",
       "                              n_estimators=150, n_jobs=-1, nthread=None,\n",
       "                              objective='reg:linear', random_state=0,\n",
       "                              reg_alpha=0, reg_lambda=1, scale_pos_weight=1,\n",
       "                              seed=None, silent=None, subsample=1,\n",
       "                              verbosity=1))],\n",
       "         verbose=False)"
      ]
     },
     "execution_count": 22,
     "metadata": {},
     "output_type": "execute_result"
    }
   ],
   "source": [
    "from xgboost import XGBRegressor\n",
    "\n",
    "xgb_pipe = make_pipeline(\n",
    "    ce.OneHotEncoder(use_cat_names=True),\n",
    "    SimpleImputer(),\n",
    "    XGBRegressor(\n",
    "        n_estimators=150,\n",
    "        n_jobs=-1,\n",
    "        learning_rate=0.25,\n",
    "        max_depth=30,\n",
    "    ),\n",
    ")\n",
    "\n",
    "xgb_pipe.fit(X_train, y_train)"
   ]
  },
  {
   "cell_type": "code",
   "execution_count": 23,
   "metadata": {},
   "outputs": [
    {
     "name": "stdout",
     "output_type": "stream",
     "text": [
      "r2: 0, mae: 10.936560460586744\n"
     ]
    }
   ],
   "source": [
    "from sklearn.metrics import mean_absolute_error\n",
    "\n",
    "pred = xgb_pipe.predict(X_val)\n",
    "\n",
    "r2 = 0 # r2_score(pred, y_val)\n",
    "mae = mean_absolute_error(pred, y_val)\n",
    "\n",
    "print(f\"r2: {r2}, mae: {mae}\")"
   ]
  },
  {
   "cell_type": "markdown",
   "metadata": {},
   "source": [
    "### Result\n",
    "\n",
    "Beats baseline by about \\$33."
   ]
  },
  {
   "cell_type": "code",
   "execution_count": null,
   "metadata": {},
   "outputs": [],
   "source": [
    "print(features)"
   ]
  },
  {
   "cell_type": "code",
   "execution_count": 25,
   "metadata": {},
   "outputs": [],
   "source": [
    "import pickle\n",
    "\n",
    "with open(\"../pickles/primitive_model.pickle\", \"wb\") as f:\n",
    "    pickle.dump(xgb_pipe, f)"
   ]
  },
  {
   "cell_type": "code",
   "execution_count": null,
   "metadata": {},
   "outputs": [],
   "source": [
    "import joblib\n",
    "\n",
    "with open(\"../pickles/primitive_model.joblib\", \"wb\") as f:\n",
    "    joblib.dump(pipe, f)"
   ]
  },
  {
   "cell_type": "code",
   "execution_count": null,
   "metadata": {},
   "outputs": [],
   "source": []
  },
  {
   "cell_type": "code",
   "execution_count": null,
   "metadata": {},
   "outputs": [],
   "source": []
  },
  {
   "cell_type": "code",
   "execution_count": null,
   "metadata": {},
   "outputs": [],
   "source": []
  },
  {
   "cell_type": "code",
   "execution_count": null,
   "metadata": {},
   "outputs": [],
   "source": []
  },
  {
   "cell_type": "code",
   "execution_count": null,
   "metadata": {},
   "outputs": [],
   "source": []
  },
  {
   "cell_type": "code",
   "execution_count": null,
   "metadata": {},
   "outputs": [],
   "source": []
  }
 ],
 "metadata": {
  "kernelspec": {
   "display_name": "Python 3",
   "language": "python",
   "name": "python3"
  },
  "language_info": {
   "codemirror_mode": {
    "name": "ipython",
    "version": 3
   },
   "file_extension": ".py",
   "mimetype": "text/x-python",
   "name": "python",
   "nbconvert_exporter": "python",
   "pygments_lexer": "ipython3",
   "version": "3.7.4"
  }
 },
 "nbformat": 4,
 "nbformat_minor": 4
}
